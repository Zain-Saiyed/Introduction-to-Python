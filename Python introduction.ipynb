{
 "cells": [
  {
   "cell_type": "markdown",
   "metadata": {},
   "source": [
    "# Intro to Python Programming "
   ]
  },
  {
   "cell_type": "markdown",
   "metadata": {},
   "source": [
    "### What is Python?\n",
    "Python is an interpreted, object-oriented, high-level programming language with dynamic semantics. Python's design philosophy emphasizes code readability.\n",
    "\n",
    "Two versions: Python 2.x and python 3.x\n",
    "### Input - Output Functions:\n",
    "### Print() statement\n",
    "This function prints the text or message specified in the parenthesis to the screen or any standard output device."
   ]
  },
  {
   "cell_type": "code",
   "execution_count": 1,
   "metadata": {},
   "outputs": [
    {
     "name": "stdout",
     "output_type": "stream",
     "text": [
      "This is a Example of using Print() function, that prints this text as Output.\n"
     ]
    }
   ],
   "source": [
    "print(\"This is a Example of using Print() function, that prints this text as Output.\")"
   ]
  },
  {
   "cell_type": "markdown",
   "metadata": {},
   "source": [
    "### input() function\n",
    "This function is used to take input from the user, and the input taken is stored as string format."
   ]
  },
  {
   "cell_type": "code",
   "execution_count": 2,
   "metadata": {},
   "outputs": [
    {
     "name": "stdout",
     "output_type": "stream",
     "text": [
      "Please enter Input here: 99.99\n"
     ]
    },
    {
     "data": {
      "text/plain": [
       "'99.99'"
      ]
     },
     "execution_count": 2,
     "metadata": {},
     "output_type": "execute_result"
    }
   ],
   "source": [
    "input(\"Please enter Input here: \")"
   ]
  },
  {
   "cell_type": "markdown",
   "metadata": {},
   "source": [
    "## Variables\n",
    "Variables are place holders or containers that store the data values. These are created once values are assigned to them. Python has no command for declaring a variable, unlike other languages. They can store values of different datatypes.<br><br><b>\n",
    "Naming Convention:</b><br>When naming variables they must start with a letter or the underscore character. A variable name cannot begin with a number. A variable name can only contain alpha-numeric characters and underscores [ A-z, 0-9, and _ ] . They are case-sensitive (Value, VALUE and value are three different variables)\n",
    "## Data Types:\n",
    "Types of Data types for variables include:<br>1. Integers<br>2. Float<br>3. Strings<br>And, many more...\n",
    "\n",
    "For example consider the below example where we create a <i>variable</i> called <b>value1</b> which stores a integer number <b>40</b>. Similarly, <b>value_float</b> storing a float value <b>99.99</b>, and <b>VALue1</b> storing a string value \" <b>Hello World</b>\"."
   ]
  },
  {
   "cell_type": "code",
   "execution_count": 3,
   "metadata": {},
   "outputs": [
    {
     "name": "stdout",
     "output_type": "stream",
     "text": [
      "<class 'int'>\n",
      "<class 'float'>\n",
      "<class 'str'>\n"
     ]
    }
   ],
   "source": [
    "# Assigning the Variable with Values\n",
    "value1 = 40\n",
    "value_float = 99.99\n",
    "VALue1 = \"Hello World\"\n",
    "\n",
    "# Checking their Data types - Use the type() function\n",
    "print(type(value1))\n",
    "print(type(value_float))\n",
    "print(type(VALue1))"
   ]
  },
  {
   "cell_type": "markdown",
   "metadata": {},
   "source": [
    "### Type Casting :\n",
    "When we want to change the datatype of a variable to another type, in this case Type Casting is done. For example if we have a variable value1 which conatins an Integer 150 and lets say we want to convert it to string for say printing purposes, this can be achieved through Type Casting.\n",
    "<br>\n",
    "#### With the help of following functions we can Type Cast variables:\n",
    "1. int() - This function converts any data type to an Integer. Example: 15.56 to 15, \"138\" to 138\n",
    "<br>\n",
    "2. float() - This function converts an Integer, Float or a string literal (provided that the string represents a numeric vaue) to a Floating point number. Example: \"13.256\" to 13.256\n",
    "<br>\n",
    "3. str() - This function converts any Integer, float to a string. Example: 19.25 to \"19.25\""
   ]
  },
  {
   "cell_type": "code",
   "execution_count": 4,
   "metadata": {},
   "outputs": [
    {
     "name": "stdout",
     "output_type": "stream",
     "text": [
      "Their Datatypes are as follows:\n",
      "\n",
      "<class 'int'> \t 56\n",
      "<class 'float'> 99.9999\n",
      "<class 'int'> \t 3\n"
     ]
    }
   ],
   "source": [
    "# Stores a Integer value : 56\n",
    "int_value = int(\"56\")\n",
    "\n",
    "# Stores a Floating point number : 99.9999\n",
    "float_value = float(\"99.9999\")\n",
    "\n",
    "# Stores a String value : 3.14\n",
    "string_value = int(3.14)\n",
    "\n",
    "# Checking their Data types - Use the type() function\n",
    "print(\"Their Datatypes are as follows:\\n\")\n",
    "print(type(int_value),\"\\t\",int_value)\n",
    "print(type(float_value),float_value)\n",
    "print(type(string_value),\"\\t\",string_value)"
   ]
  },
  {
   "cell_type": "markdown",
   "metadata": {},
   "source": [
    "## Operators?\n",
    "There are different types of operators:\n",
    "#### 1. Arithmetic Operators\n",
    "When common <u>mathematical operation needs to be performed</u>, the Arithmetic operators are used. These are:<br><br><b>+</b> Addition.<br><b>-</b> Subtraction.<br>\\* Multiplication.<br><b>/</b> Division.<br><b>//</b> Floor Division.<br><b>**</b> Exponent.<br><br>Lets see the operators through these examples:"
   ]
  },
  {
   "cell_type": "code",
   "execution_count": 5,
   "metadata": {},
   "outputs": [
    {
     "name": "stdout",
     "output_type": "stream",
     "text": [
      "variable = 98\n",
      "variable = 100\n",
      "variable = 50\n",
      "variable = 100\n",
      "variable = 33.333333333333336\n",
      "variable = 8.0\n",
      "variable = 64.0\n",
      "variable = 4.0\n"
     ]
    }
   ],
   "source": [
    "variable = 98\n",
    "print(\"variable =\", variable)\n",
    "\n",
    "variable = variable + 2\n",
    "print(\"variable =\", variable)\n",
    "\n",
    "variable = variable - 50\n",
    "print(\"variable =\", variable)\n",
    "\n",
    "variable = variable * 2\n",
    "print(\"variable =\", variable)\n",
    "\n",
    "variable = variable / 3\n",
    "print(\"variable =\", variable)\n",
    "\n",
    "variable = variable // 4                      # 8.333333 but truncated!\n",
    "print(\"variable =\", variable)\n",
    "\n",
    "variable = variable ** 2\n",
    "print(\"variable =\", variable)\n",
    "\n",
    "variable = variable % 5                       # 64/5 | remainder: 4 , Quotient: 12\n",
    "print(\"variable =\", variable)"
   ]
  },
  {
   "cell_type": "markdown",
   "metadata": {},
   "source": [
    "#### 2. Assignment operators\n",
    "These operators are used when <i>some value needs to be assigned to some variable</i>.<br><br><b>=</b> Assigning values to variables.<br><b>+=</b>   Assignment and Addition simultaneously.<br><b>- =</b>   Assignment and Subtraction simultaneously.<br><b> \\*=</b>    Assignment and Multiplication simultaneously.<br>Similarly, <b>/= , %= , //= , **= </b>.<br><br>Lets see the operators through these examples:"
   ]
  },
  {
   "cell_type": "code",
   "execution_count": 6,
   "metadata": {},
   "outputs": [
    {
     "name": "stdout",
     "output_type": "stream",
     "text": [
      "variable = 33.5\n",
      "variable = 34.0\n",
      "variable = 24.0\n",
      "variable = 48.0\n",
      "variable = 16.0\n",
      "variable = 5.0\n",
      "variable = 25.0\n",
      "variable = 1.0\n"
     ]
    }
   ],
   "source": [
    "variable = 33.5\n",
    "print(\"variable =\", variable)\n",
    "\n",
    "variable += 0.5\n",
    "print(\"variable =\", variable)\n",
    "\n",
    "variable -= 10\n",
    "print(\"variable =\", variable)\n",
    "\n",
    "variable *= 2\n",
    "print(\"variable =\", variable)\n",
    "\n",
    "variable /= 3\n",
    "print(\"variable =\", variable)\n",
    "\n",
    "variable //= 3                      # 3.19999999 but truncated!\n",
    "print(\"variable =\", variable)\n",
    "\n",
    "variable **= 2\n",
    "print(\"variable =\", variable)\n",
    "\n",
    "variable %= 3                       # 25/3 | remainder: 1 , Quotient: 8\n",
    "print(\"variable =\", variable)"
   ]
  },
  {
   "cell_type": "markdown",
   "metadata": {},
   "source": [
    "#### 3. Comparison Operators\n",
    "Comparison operators are used to compare two values.<br><br><b>==</b> Equality.<br><b>> </b> Greator than .<br><b>\\< </b>   Less Than .<br><b>>=</b> Greator than Equals.<br><b><= </b>Less than Equals.<br><b>!=</b> Not Equal to.<br><br>Lets see the operators through these examples:"
   ]
  },
  {
   "cell_type": "code",
   "execution_count": 7,
   "metadata": {},
   "outputs": [
    {
     "data": {
      "text/plain": [
       "False"
      ]
     },
     "execution_count": 7,
     "metadata": {},
     "output_type": "execute_result"
    }
   ],
   "source": [
    "10 == 30"
   ]
  },
  {
   "cell_type": "code",
   "execution_count": 8,
   "metadata": {},
   "outputs": [
    {
     "data": {
      "text/plain": [
       "True"
      ]
     },
     "execution_count": 8,
     "metadata": {},
     "output_type": "execute_result"
    }
   ],
   "source": [
    "1 < 100"
   ]
  },
  {
   "cell_type": "code",
   "execution_count": 9,
   "metadata": {},
   "outputs": [
    {
     "data": {
      "text/plain": [
       "False"
      ]
     },
     "execution_count": 9,
     "metadata": {},
     "output_type": "execute_result"
    }
   ],
   "source": [
    "\"python\" == \"Python\""
   ]
  },
  {
   "cell_type": "markdown",
   "metadata": {},
   "source": [
    "#### 3. Logical Operators\n",
    "These are used when want to compare two or more conditions. It return True or False depending on the condition.<br>Comparison Operators are : <b> and , or , not</b>"
   ]
  },
  {
   "cell_type": "code",
   "execution_count": 10,
   "metadata": {},
   "outputs": [
    {
     "data": {
      "text/plain": [
       "False"
      ]
     },
     "execution_count": 10,
     "metadata": {},
     "output_type": "execute_result"
    }
   ],
   "source": [
    "# 10 > 1 and 1 < 10 \n",
    "10 > 1 and 5 > 15 "
   ]
  },
  {
   "cell_type": "code",
   "execution_count": 11,
   "metadata": {},
   "outputs": [
    {
     "data": {
      "text/plain": [
       "False"
      ]
     },
     "execution_count": 11,
     "metadata": {},
     "output_type": "execute_result"
    }
   ],
   "source": [
    "# 10 > 1 or 1 < 10 \n",
    "1 != 1 or 5 > 15 "
   ]
  },
  {
   "cell_type": "markdown",
   "metadata": {},
   "source": [
    "#### 4. Identity Operators\n",
    "These are used to compare the objects to check if they represent the same object present within the same memory location.<br>The operators are:<b> is , is not</b>. For example:"
   ]
  },
  {
   "cell_type": "code",
   "execution_count": 12,
   "metadata": {},
   "outputs": [
    {
     "data": {
      "text/plain": [
       "False"
      ]
     },
     "execution_count": 12,
     "metadata": {},
     "output_type": "execute_result"
    }
   ],
   "source": [
    "var = \"Hello\"\n",
    "var is \"hello\"\n",
    "\n",
    "# var is \"Hello\""
   ]
  },
  {
   "cell_type": "markdown",
   "metadata": {},
   "source": [
    "#### 6. Membership Operators\n",
    "Operators are used to test if a sequence is presented in an object.<br>The operators are:<b> in , not  in </b>. <i>We will see its use later on.</i>\n",
    "## Lists, Tuple, Set and Dictionary\n",
    "\n",
    "There are four collection data types in the Python, namely list, tuple, set and dictionary.<br>\n",
    "#### 1. List\n",
    "Its a  ordered collection of elements and are changeable. Can contain duplicate values. For example:"
   ]
  },
  {
   "cell_type": "code",
   "execution_count": 13,
   "metadata": {},
   "outputs": [
    {
     "name": "stdout",
     "output_type": "stream",
     "text": [
      "['Huawei', 'Google', 13, 15.556, True]\n"
     ]
    }
   ],
   "source": [
    "myList = [\"Huawei\",\"Google\", 13, 15.556, True ]\n",
    "print(myList)"
   ]
  },
  {
   "cell_type": "code",
   "execution_count": 14,
   "metadata": {},
   "outputs": [
    {
     "name": "stdout",
     "output_type": "stream",
     "text": [
      "['Huawei', 'Apple', 13, 15.556, True]\n"
     ]
    }
   ],
   "source": [
    "myList[1] = \"Apple\"\n",
    "print(myList)"
   ]
  },
  {
   "cell_type": "markdown",
   "metadata": {},
   "source": [
    "#### 2. Tuple\n",
    "Its a  ordered collection of elements and are <b>not</b> changeable. Can contain duplicate values. For example:"
   ]
  },
  {
   "cell_type": "code",
   "execution_count": 15,
   "metadata": {},
   "outputs": [
    {
     "name": "stdout",
     "output_type": "stream",
     "text": [
      "('hello', 'World', 10, 9.556, False)\n"
     ]
    }
   ],
   "source": [
    "myTuple = (\"hello\",\"World\", 10, 9.556, False ) \n",
    "print(myTuple)"
   ]
  },
  {
   "cell_type": "code",
   "execution_count": 16,
   "metadata": {},
   "outputs": [
    {
     "ename": "TypeError",
     "evalue": "'tuple' object does not support item assignment",
     "output_type": "error",
     "traceback": [
      "\u001b[1;31m---------------------------------------------------------------------------\u001b[0m",
      "\u001b[1;31mTypeError\u001b[0m                                 Traceback (most recent call last)",
      "\u001b[1;32m<ipython-input-16-44ecd3efa6ef>\u001b[0m in \u001b[0;36m<module>\u001b[1;34m\u001b[0m\n\u001b[0;32m      1\u001b[0m \u001b[1;31m# The below statement produces ERROR\u001b[0m\u001b[1;33m\u001b[0m\u001b[1;33m\u001b[0m\u001b[1;33m\u001b[0m\u001b[0m\n\u001b[1;32m----> 2\u001b[1;33m \u001b[0mmyTuple\u001b[0m\u001b[1;33m[\u001b[0m\u001b[1;36m0\u001b[0m\u001b[1;33m]\u001b[0m \u001b[1;33m=\u001b[0m \u001b[1;34m\"Hello\"\u001b[0m\u001b[1;33m\u001b[0m\u001b[1;33m\u001b[0m\u001b[0m\n\u001b[0m",
      "\u001b[1;31mTypeError\u001b[0m: 'tuple' object does not support item assignment"
     ]
    }
   ],
   "source": [
    "# The below statement produces ERROR\n",
    "myTuple[0] = \"Hello\""
   ]
  },
  {
   "cell_type": "markdown",
   "metadata": {},
   "source": [
    "#### 3. Set\n",
    "Its a collection of unique elements and are unordered and unindexed. <b>Cannot</b> contain duplicate values. For example:"
   ]
  },
  {
   "cell_type": "code",
   "execution_count": 17,
   "metadata": {},
   "outputs": [
    {
     "name": "stdout",
     "output_type": "stream",
     "text": [
      "{True, 3.14, 'Pineapple', 'Apple'}\n"
     ]
    }
   ],
   "source": [
    "mySet = { \"Apple\", \"Pineapple\", 3.14, True, True, 3.14, True, \"Apple\"}\n",
    "print(mySet)"
   ]
  },
  {
   "cell_type": "markdown",
   "metadata": {},
   "source": [
    "Adding element in a Set:"
   ]
  },
  {
   "cell_type": "code",
   "execution_count": 18,
   "metadata": {},
   "outputs": [
    {
     "name": "stdout",
     "output_type": "stream",
     "text": [
      "{True, 3.14, 'Pineapple', 'Apple', 'Guava'}\n"
     ]
    }
   ],
   "source": [
    "mySet.add(\"Guava\")\n",
    "print(mySet)"
   ]
  },
  {
   "cell_type": "markdown",
   "metadata": {},
   "source": [
    "Removing element in a Set:"
   ]
  },
  {
   "cell_type": "code",
   "execution_count": 19,
   "metadata": {},
   "outputs": [
    {
     "data": {
      "text/plain": [
       "{'Apple', 'Guava', 'Pineapple', True}"
      ]
     },
     "execution_count": 19,
     "metadata": {},
     "output_type": "execute_result"
    }
   ],
   "source": [
    "mySet.discard(3.14)\n",
    "mySet"
   ]
  },
  {
   "cell_type": "markdown",
   "metadata": {},
   "source": [
    "#### 4. Dictionary\n",
    "Its a collection of unique elements and are unordered, changeable and can be indexed, and are <b>stored as Key-Value pairs</b>. Cannot contain duplicate values. For example:"
   ]
  },
  {
   "cell_type": "code",
   "execution_count": 20,
   "metadata": {},
   "outputs": [
    {
     "name": "stdout",
     "output_type": "stream",
     "text": [
      "{'Hello': 1, 2: 'World'} \n",
      "\n",
      "1\n",
      "World\n",
      "26\n"
     ]
    }
   ],
   "source": [
    "myDictionary = { \"Hello\" : 1 , 2 : \"World\"}\n",
    "print(myDictionary,\"\\n\")\n",
    "\n",
    "# Accessing key values to print its corresponding Value\n",
    "print(myDictionary[\"Hello\"])\n",
    "print(myDictionary[2])\n",
    "\n",
    "# Adding a new key : Value pair\n",
    "myDictionary[\"print\"]=26\n",
    "\n",
    "print(myDictionary[\"print\"])"
   ]
  },
  {
   "cell_type": "markdown",
   "metadata": {},
   "source": [
    "### IF - ELIF - ELSE  Condition statements\n",
    "These statements are used to evaluate a condition and execute a block of code based on that condition. Lets look at <b>IF</b> statement."
   ]
  },
  {
   "cell_type": "code",
   "execution_count": 21,
   "metadata": {},
   "outputs": [
    {
     "name": "stdout",
     "output_type": "stream",
     "text": [
      "10  is a EVEN number!\n"
     ]
    }
   ],
   "source": [
    "value = 10\n",
    "if value % 2 == 0 :\n",
    "    print(value,\" is a EVEN number!\")"
   ]
  },
  {
   "cell_type": "markdown",
   "metadata": {},
   "source": [
    "<b>ELSE Statement</b> :"
   ]
  },
  {
   "cell_type": "code",
   "execution_count": 22,
   "metadata": {},
   "outputs": [
    {
     "name": "stdout",
     "output_type": "stream",
     "text": [
      "5  is a ODD number!\n"
     ]
    }
   ],
   "source": [
    "value = 5\n",
    "if value % 2 == 0 :\n",
    "    print(value,\" is a EVEN number!\")\n",
    "else:\n",
    "    print(value,\" is a ODD number!\")"
   ]
  },
  {
   "cell_type": "markdown",
   "metadata": {},
   "source": [
    "<b>ELIF Statement</b> :"
   ]
  },
  {
   "cell_type": "code",
   "execution_count": 24,
   "metadata": {},
   "outputs": [
    {
     "name": "stdout",
     "output_type": "stream",
     "text": [
      "Enter your age5\n",
      "Child\n",
      "Baby\n"
     ]
    }
   ],
   "source": [
    "Age =int(input(\"Enter your age\"))\n",
    "# If Age less than 13 then a Child\n",
    "if Age < 13   :\n",
    "    print(\"Child\")\n",
    "    if Age <6:\n",
    "        print(\"Baby\")\n",
    "# If Age is between 13 and 19 then Teenager\n",
    "elif Age >= 13 and Age <= 19:\n",
    "    print(\"Teenager\")\n",
    "# If Age is greator than 19 then Adult\n",
    "else:\n",
    "    print(\"Adult\")"
   ]
  },
  {
   "cell_type": "markdown",
   "metadata": {},
   "source": [
    "### LOOPS:\n",
    "There are two basic loops, which are <b>FOR </b>loop and <b>WHILE </b>loops.<br><br><b>FOR </b>loops:<br>This loop is used to iterate over a collection of items, like lists, tuples, etc. For example: "
   ]
  },
  {
   "cell_type": "code",
   "execution_count": 25,
   "metadata": {},
   "outputs": [
    {
     "name": "stdout",
     "output_type": "stream",
     "text": [
      "Huawei\n",
      "Apple\n",
      "13\n",
      "15.556\n",
      "True\n",
      "\t\tElse Block\n"
     ]
    }
   ],
   "source": [
    "# Iterating over  a list\n",
    "for value in myList:\n",
    "    print(value)\n",
    "else:\n",
    "    print(\"\\t\\tElse Block\")"
   ]
  },
  {
   "cell_type": "code",
   "execution_count": 18,
   "metadata": {},
   "outputs": [],
   "source": [
    "# Can you iterate over a string??\n",
    "\n",
    "# for i in \"This is a String!\":\n",
    "#     print(i)"
   ]
  },
  {
   "cell_type": "markdown",
   "metadata": {},
   "source": [
    "<b>WHILE </b>loops:<br>This loop is used to execute code untill the condition clause is True. For example: "
   ]
  },
  {
   "cell_type": "code",
   "execution_count": 26,
   "metadata": {},
   "outputs": [
    {
     "name": "stdout",
     "output_type": "stream",
     "text": [
      "Numbers from 1 to 9 are: \n",
      "1\n",
      "2\n",
      "3\n",
      "4\n",
      "5\n",
      "6\n",
      "7\n",
      "8\n",
      "9\n"
     ]
    }
   ],
   "source": [
    "number = 1\n",
    "print(\"Numbers from 1 to 9 are: \")\n",
    "if number == 1:\n",
    "    while number < 10:\n",
    "        print(number)\n",
    "        number+=1\n",
    "else:\n",
    "    print(\"Not the number\")"
   ]
  },
  {
   "cell_type": "code",
   "execution_count": 27,
   "metadata": {},
   "outputs": [],
   "source": [
    "# Question : What if in above loop you want to print only EVEN Numbers?? "
   ]
  },
  {
   "cell_type": "markdown",
   "metadata": {},
   "source": [
    "#### Break statement\n",
    "This is a keyword that is used to <b>STOP</b> the execution of your loop at that state. Consider below Example:"
   ]
  },
  {
   "cell_type": "code",
   "execution_count": 28,
   "metadata": {},
   "outputs": [
    {
     "name": "stdout",
     "output_type": "stream",
     "text": [
      "1  is Odd\n",
      "3  is Odd\n",
      "5  is Odd\n",
      "7  is Odd\n",
      "8 is EVEN ???\n"
     ]
    }
   ],
   "source": [
    "check_numbers = [1,3,5,7,8,9,3,11]\n",
    "for number in check_numbers:\n",
    "    if number % 2 == 0 :\n",
    "        print(number,\"is EVEN ???\")\n",
    "        break\n",
    "    else:\n",
    "        print(number,\" is Odd\")"
   ]
  },
  {
   "cell_type": "markdown",
   "metadata": {},
   "source": [
    "#### Continue statement\n",
    "This is a keyword that is used to <b>SKIP</b> the execution of your loop at that state. Consider below Example:"
   ]
  },
  {
   "cell_type": "code",
   "execution_count": 29,
   "metadata": {},
   "outputs": [
    {
     "name": "stdout",
     "output_type": "stream",
     "text": [
      "1  is Odd\n",
      "3  is Odd\n",
      "5  is Odd\n",
      "7  is Odd\n",
      "9  is Odd\n",
      "3  is Odd\n",
      "11  is Odd\n"
     ]
    }
   ],
   "source": [
    "# For the above scenario, what IF you don't want to print the even numbers occuring in check_numbers\n",
    "check_numbers = [1,3,5,7,8,9,3,11]\n",
    "for number in check_numbers:\n",
    "    if number % 2 == 0 :        \n",
    "        continue\n",
    "        \n",
    "#       All these statement will not be executed\n",
    "        print(number,\"is EVEN ???\")\n",
    "        print(\"This statement will NOT PRINT!!\")\n",
    "    else:\n",
    "        print(number,\" is Odd\")"
   ]
  },
  {
   "cell_type": "code",
   "execution_count": 30,
   "metadata": {},
   "outputs": [
    {
     "name": "stdout",
     "output_type": "stream",
     "text": [
      "Enter input : Welcome to Python!\n",
      "W\n",
      "e\n",
      "l\n",
      "c\n",
      "o\n",
      "m\n",
      "e\n",
      " \n",
      "t\n",
      "o\n",
      " \n",
      "P\n",
      "y\n",
      "t\n",
      "h\n",
      "o\n",
      "n\n",
      "!\n"
     ]
    }
   ],
   "source": [
    "a=input(\"Enter input : \")\n",
    "for i in a:\n",
    "    print(i)"
   ]
  },
  {
   "cell_type": "markdown",
   "metadata": {},
   "source": [
    "#### Question: Create a LIST which has strings and print each charecter of those strings present in the LIST ."
   ]
  },
  {
   "cell_type": "code",
   "execution_count": 31,
   "metadata": {},
   "outputs": [],
   "source": [
    "# Answer:\n",
    "\n",
    "# example=[\"string1\",\"string2\"]\n",
    "# for value in example:\n",
    "#     print(value)\n",
    "#     for i in value:\n",
    "#         print(i)"
   ]
  },
  {
   "cell_type": "markdown",
   "metadata": {},
   "source": [
    "### Functions:\n",
    "A function is a block of code which only executes when it is called. We can also specify the parameters or values that need to be passed to it. lastly, we can also specify the value that a particular function returns after performing some computation."
   ]
  },
  {
   "cell_type": "code",
   "execution_count": null,
   "metadata": {},
   "outputs": [],
   "source": [
    "# Syntax: def keyword is used for Defining a function\n",
    "def function_name(#parameters):\n",
    "    # Defining Body\n",
    "    # ...     \n",
    "    # ...\n",
    "    #return values\n",
    "    \n",
    "# Below is function call\n",
    "function_name(#parameters)"
   ]
  },
  {
   "cell_type": "code",
   "execution_count": 33,
   "metadata": {},
   "outputs": [
    {
     "name": "stdout",
     "output_type": "stream",
     "text": [
      "Square of 10 is :  100\n"
     ]
    }
   ],
   "source": [
    "# Function that performs square of number passed to it and returns its back\n",
    "def compute_square(num):\n",
    "    return num**2\n",
    "\n",
    "answer=compute_square(10)\n",
    "print(\"Square of 10 is : \",answer)"
   ]
  },
  {
   "cell_type": "markdown",
   "metadata": {},
   "source": [
    "#### Question : <br> <br> Build a Function that returns two lists in which one list contains all the even numbers from 1 to 100 and the other list contains all odd numbers from 1 to 100. (Using a Single For loop )"
   ]
  },
  {
   "cell_type": "markdown",
   "metadata": {},
   "source": [
    "### Classes:\n",
    "Class is a code template for creating objects. Objects have a collection of member variables and member functions. It acts like a blueprint or a Template that defines some behaviour associated with it.<br><br>Syntax is as follows:\n"
   ]
  },
  {
   "cell_type": "code",
   "execution_count": null,
   "metadata": {},
   "outputs": [],
   "source": [
    "class name_of_class:\n",
    "    # 'n' number of Member Variables \n",
    "    self.variable1=15\n",
    "    self.variable2=48\n",
    "    \n",
    "    # 'n' number of member function\n",
    "    def function1(self, # parameters):\n",
    "        # Body of function\n",
    "        # ...     \n",
    "    "
   ]
  },
  {
   "cell_type": "markdown",
   "metadata": {},
   "source": [
    "### Class object creation:\n",
    "An instance / object creation of a particular class can be done as folows"
   ]
  },
  {
   "cell_type": "code",
   "execution_count": 34,
   "metadata": {},
   "outputs": [
    {
     "name": "stdout",
     "output_type": "stream",
     "text": [
      "Number of Products =  23\n"
     ]
    }
   ],
   "source": [
    "# A simple class named 'Factory' having member variable named 'no_of_products' initialised with value = 23\n",
    "class Factory:\n",
    "    no_of_products=23\n",
    "    \n",
    "    def display(self):\n",
    "        print(\"Number of Products = \",self.no_of_products)\n",
    "\n",
    "# Object creation of class Factory\n",
    "obj = Factory()\n",
    "\n",
    "# Calling function display of class Factory using object 'obj'\n",
    "obj.display()"
   ]
  },
  {
   "cell_type": "markdown",
   "metadata": {},
   "source": [
    "### Self Parameter ?\n",
    "This parameter acts as a reference to that current object of its class, and is used to access variables that belongs to that class. It really doesnt matter if we name in <b>self</b> or any other value say <i>params</i>, but it has to be the first parameter of any member function  defined in a class. Consider below Example:"
   ]
  },
  {
   "cell_type": "code",
   "execution_count": 35,
   "metadata": {},
   "outputs": [
    {
     "name": "stdout",
     "output_type": "stream",
     "text": [
      "The area of box =  1980.0\n"
     ]
    }
   ],
   "source": [
    "class Box:\n",
    "    \n",
    "    def __init__(params, height, width, breadth):\n",
    "        params.height = height\n",
    "        params.width = width\n",
    "        params.breadth = breadth\n",
    "        \n",
    "    def getArea(params):\n",
    "        return params.height * params.width * params.breadth\n",
    "    \n",
    "obj = Box(13.2,15,10)\n",
    "print(\"The area of box = \",obj.getArea())"
   ]
  },
  {
   "cell_type": "markdown",
   "metadata": {},
   "source": [
    "### The constructor i.e. __init__() method :\n",
    "Each class has an __init__() associated with it. This method or function is always run when an object of a class is created. This function is used if we want to initialise some class variables or want to perform some task beforehand or when a new object of that class is created.  "
   ]
  },
  {
   "cell_type": "code",
   "execution_count": 36,
   "metadata": {},
   "outputs": [
    {
     "name": "stdout",
     "output_type": "stream",
     "text": [
      "The addition result is:  20\n"
     ]
    }
   ],
   "source": [
    "class Calculator:\n",
    "    \n",
    "    # __init__ method\n",
    "    def __init__(self,value1,value2):\n",
    "        # member variables\n",
    "        self.Number_1 = value1\n",
    "        self.Number_2 = value2\n",
    "        \n",
    "    # member function\n",
    "    def add_numbers(self):        \n",
    "        print(\"The addition result is: \",self.Number_1 + self.Number_2)\n",
    "        return (self.Number_1 + self.Number_2)\n",
    "    \n",
    "# create a object of class Calculator which initialises the variable with values 12 and 8\n",
    "obj = Calculator(12,8)\n",
    "\n",
    "# Calling a member function of class Calculator through object - obj\n",
    "answer = obj.add_numbers()"
   ]
  },
  {
   "cell_type": "markdown",
   "metadata": {},
   "source": [
    "###### Note:\n",
    "When trying to access member variables present within a class from a member function, this referencing dows not produce any kind of error. BUT, if we have an independant function which is not a part of any class and we try to access a variable present in that function outside that functions body we get an ERROR message. For example, as it can be seen in the above classes member function add_numbers() we referenced the variables Number_1 and Number_2 and even computed a addition operation. Similarly, in the below function if we try to access the variable 'res' outside the function body we get ERROR because that variable is not defined in that scope.  "
   ]
  },
  {
   "cell_type": "code",
   "execution_count": 37,
   "metadata": {},
   "outputs": [
    {
     "name": "stdout",
     "output_type": "stream",
     "text": [
      "37\n"
     ]
    },
    {
     "ename": "NameError",
     "evalue": "name 'y' is not defined",
     "output_type": "error",
     "traceback": [
      "\u001b[1;31m---------------------------------------------------------------------------\u001b[0m",
      "\u001b[1;31mNameError\u001b[0m                                 Traceback (most recent call last)",
      "\u001b[1;32m<ipython-input-37-18e88a621cd3>\u001b[0m in \u001b[0;36m<module>\u001b[1;34m\u001b[0m\n\u001b[0;32m      5\u001b[0m \u001b[0madd_two\u001b[0m\u001b[1;33m(\u001b[0m\u001b[1;36m35\u001b[0m\u001b[1;33m)\u001b[0m\u001b[1;33m\u001b[0m\u001b[1;33m\u001b[0m\u001b[0m\n\u001b[0;32m      6\u001b[0m \u001b[1;31m# Produces Error\u001b[0m\u001b[1;33m\u001b[0m\u001b[1;33m\u001b[0m\u001b[1;33m\u001b[0m\u001b[0m\n\u001b[1;32m----> 7\u001b[1;33m \u001b[0mprint\u001b[0m\u001b[1;33m(\u001b[0m\u001b[0my\u001b[0m\u001b[1;33m)\u001b[0m\u001b[1;33m\u001b[0m\u001b[1;33m\u001b[0m\u001b[0m\n\u001b[0m",
      "\u001b[1;31mNameError\u001b[0m: name 'y' is not defined"
     ]
    }
   ],
   "source": [
    "def add_two(res):\n",
    "    res += 2\n",
    "    print(res)\n",
    "    \n",
    "add_two(35)\n",
    "# Produces Error\n",
    "print(y)"
   ]
  },
  {
   "cell_type": "markdown",
   "metadata": {},
   "source": [
    "### Importing other python files:\n",
    "In order to import and use other python files, this can be achieved through the help of <b>import</b> keyword. Lets say we want to import a python Library called as matplotlib for plotting some cool looking graphs or even if we want to access and use a different python file written by us and it is in the same folder as the python script in which we want to use it. Thus, it can be done as follows : "
   ]
  },
  {
   "cell_type": "code",
   "execution_count": null,
   "metadata": {},
   "outputs": [],
   "source": [
    "# Importing a library for plotting graphs\n",
    "import matplotlib\n",
    "\n",
    "# Importing a python file created by us and is in the same folder as this python file\n",
    "import my_python_workspace.py"
   ]
  },
  {
   "cell_type": "markdown",
   "metadata": {},
   "source": [
    "<hr>"
   ]
  }
 ],
 "metadata": {
  "kernelspec": {
   "display_name": "Python 3",
   "language": "python",
   "name": "python3"
  },
  "language_info": {
   "codemirror_mode": {
    "name": "ipython",
    "version": 3
   },
   "file_extension": ".py",
   "mimetype": "text/x-python",
   "name": "python",
   "nbconvert_exporter": "python",
   "pygments_lexer": "ipython3",
   "version": "3.7.3"
  }
 },
 "nbformat": 4,
 "nbformat_minor": 2
}
