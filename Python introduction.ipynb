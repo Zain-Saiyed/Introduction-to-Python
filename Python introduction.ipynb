{
 "cells": [
  {
   "cell_type": "markdown",
   "metadata": {},
   "source": [
    "# Python Programming "
   ]
  },
  {
   "cell_type": "markdown",
   "metadata": {},
   "source": [
    "### What is Python?\n",
    "Python is an interpreted, object-oriented, high-level programming language with dynamic semantics. Python's design philosophy emphasizes code readability.\n",
    "\n",
    "Two versions: Python 2.x and python 3.x\n",
    "### Print() statement\n",
    "This function prints the text or message specified in the parenthesis to the screen or any standard output device."
   ]
  },
  {
   "cell_type": "code",
   "execution_count": 4,
   "metadata": {},
   "outputs": [
    {
     "name": "stdout",
     "output_type": "stream",
     "text": [
      "This is a Example of using Print() function, that prints this text as Output.\n"
     ]
    }
   ],
   "source": [
    "print(\"This is a Example of using Print() function, that prints this text as Output.\")"
   ]
  },
  {
   "cell_type": "markdown",
   "metadata": {},
   "source": [
    "## Variables\n",
    "Variables are place holders or containers that store the data values. These are created once values are assigned to them. Python has no command for declaring a variable, unlike other languages. They can store values of different datatypes.<br>\n",
    "## Data Types:\n",
    "Types of Data types for variables include:<br>1. Integers<br>2. Float<br>3. Strings<br>And, many more...\n",
    "\n",
    "For example consider the below example where we create a <i>variable</i> called <b>value1</b> which stores a integer number <b>40</b>. Similarly, <b>value_float</b> storing a float value <b>99.99</b>, and <b>VALue1</b> storing a string value \" <b>Hello World</b>\"."
   ]
  },
  {
   "cell_type": "code",
   "execution_count": 6,
   "metadata": {},
   "outputs": [
    {
     "name": "stdout",
     "output_type": "stream",
     "text": [
      "<class 'int'>\n",
      "<class 'float'>\n",
      "<class 'str'>\n"
     ]
    }
   ],
   "source": [
    "# Assigning the Variable with Values\n",
    "value1 = 40\n",
    "value_float = 99.99\n",
    "VALue1 = \"Hello World\"\n",
    "\n",
    "# Checking their Data types\n",
    "print(type(value1))\n",
    "print(type(value_float))\n",
    "print(type(VALue1))"
   ]
  },
  {
   "cell_type": "markdown",
   "metadata": {},
   "source": [
    "## Operators?\n",
    "There are different types of operators:\n",
    "#### 1. Arithmetic Operators\n",
    "When common <u>mathematical operation needs to be performed</u>, the Arithmetic operators are used. These are:<br><br><b>+</b> Addition.<br><b>-</b> Subtraction.<br>\\* Multiplication.<br><b>/</b> Division.<br><b>//</b> Floor Division.<br><b>**</b> Exponent.<br><br>Lets see the operators through these examples:"
   ]
  },
  {
   "cell_type": "code",
   "execution_count": 55,
   "metadata": {},
   "outputs": [
    {
     "name": "stdout",
     "output_type": "stream",
     "text": [
      "variable = 98\n",
      "variable = 100\n",
      "variable = 50\n",
      "variable = 100\n",
      "variable = 33.333333333333336\n",
      "variable = 8.0\n",
      "variable = 64.0\n",
      "variable = 4.0\n"
     ]
    }
   ],
   "source": [
    "variable = 98\n",
    "print(\"variable =\", variable)\n",
    "\n",
    "variable = variable + 2\n",
    "print(\"variable =\", variable)\n",
    "\n",
    "variable = variable - 50\n",
    "print(\"variable =\", variable)\n",
    "\n",
    "variable = variable * 2\n",
    "print(\"variable =\", variable)\n",
    "\n",
    "variable = variable / 3\n",
    "print(\"variable =\", variable)\n",
    "\n",
    "variable = variable // 4                      # 8.333333 but truncated!\n",
    "print(\"variable =\", variable)\n",
    "\n",
    "variable = variable ** 2\n",
    "print(\"variable =\", variable)\n",
    "\n",
    "variable = variable % 5                       # 64/5 | remainder: 4 , Quotient: 12\n",
    "print(\"variable =\", variable)"
   ]
  },
  {
   "cell_type": "markdown",
   "metadata": {},
   "source": [
    "#### 2. Assignment operators\n",
    "These operators are used when <i>some value needs to be assigned to some variable</i>.<br><br><b>=</b> Assigning values to variables.<br><b>+=</b>   Assignment and Addition simultaneously.<br><b>- =</b>   Assignment and Subtraction simultaneously.<br><b> \\*=</b>    Assignment and Multiplication simultaneously.<br>Similarly, <b>/= , %= , //= , **= </b>.<br>Lets see the operators through these examples:"
   ]
  },
  {
   "cell_type": "code",
   "execution_count": 39,
   "metadata": {},
   "outputs": [
    {
     "name": "stdout",
     "output_type": "stream",
     "text": [
      "variable = 33.5\n",
      "variable = 34.0\n",
      "variable = 24.0\n",
      "variable = 48.0\n",
      "variable = 16.0\n",
      "variable = 5.0\n",
      "variable = 25.0\n",
      "variable = 1.0\n"
     ]
    }
   ],
   "source": [
    "variable = 33.5\n",
    "print(\"variable =\", variable)\n",
    "\n",
    "variable += 0.5\n",
    "print(\"variable =\", variable)\n",
    "\n",
    "variable -= 10\n",
    "print(\"variable =\", variable)\n",
    "\n",
    "variable *= 2\n",
    "print(\"variable =\", variable)\n",
    "\n",
    "variable /= 3\n",
    "print(\"variable =\", variable)\n",
    "\n",
    "variable //= 3                      # 3.19999999 but truncated!\n",
    "print(\"variable =\", variable)\n",
    "\n",
    "variable **= 2\n",
    "print(\"variable =\", variable)\n",
    "\n",
    "variable %= 3                       # 25/3 | remainder: 1 , Quotient: 8\n",
    "print(\"variable =\", variable)"
   ]
  },
  {
   "cell_type": "markdown",
   "metadata": {},
   "source": [
    "#### 3. Comparison Operators\n",
    "Comparison operators are used to compare two values.<br><br><b>==</b> Equality.<br><b>> </b> Greator than .<br><b>\\< </b>   Less Than .<br><b>>=</b> Greator than Equals.<br><b><= </b>Less than Equals.<br><b>!=</b> Not Equal to.<br>Lets see the operators through these examples:"
   ]
  },
  {
   "cell_type": "code",
   "execution_count": 56,
   "metadata": {},
   "outputs": [
    {
     "data": {
      "text/plain": [
       "False"
      ]
     },
     "execution_count": 56,
     "metadata": {},
     "output_type": "execute_result"
    }
   ],
   "source": [
    "10 == 30"
   ]
  },
  {
   "cell_type": "code",
   "execution_count": 57,
   "metadata": {},
   "outputs": [
    {
     "data": {
      "text/plain": [
       "True"
      ]
     },
     "execution_count": 57,
     "metadata": {},
     "output_type": "execute_result"
    }
   ],
   "source": [
    "1 < 100"
   ]
  },
  {
   "cell_type": "code",
   "execution_count": 60,
   "metadata": {},
   "outputs": [
    {
     "data": {
      "text/plain": [
       "False"
      ]
     },
     "execution_count": 60,
     "metadata": {},
     "output_type": "execute_result"
    }
   ],
   "source": [
    "\"python\" == \"Python\""
   ]
  },
  {
   "cell_type": "markdown",
   "metadata": {},
   "source": [
    "#### 3. Logical Operators\n",
    "These are used when want to compare two or more conditions. It return True or False depending on the condition.<br>Comparison Operators are : <b> and , or , not</b>"
   ]
  },
  {
   "cell_type": "code",
   "execution_count": 62,
   "metadata": {},
   "outputs": [
    {
     "data": {
      "text/plain": [
       "True"
      ]
     },
     "execution_count": 62,
     "metadata": {},
     "output_type": "execute_result"
    }
   ],
   "source": [
    "10 > 1 and 1 < 10 \n",
    "# 10 > 1 and 5 > 15 "
   ]
  },
  {
   "cell_type": "code",
   "execution_count": 65,
   "metadata": {},
   "outputs": [
    {
     "data": {
      "text/plain": [
       "False"
      ]
     },
     "execution_count": 65,
     "metadata": {},
     "output_type": "execute_result"
    }
   ],
   "source": [
    "# 10 > 1 or 1 < 10 \n",
    "1 != 1 and 5 > 15 "
   ]
  },
  {
   "cell_type": "markdown",
   "metadata": {},
   "source": [
    "#### 4. Identity Operators\n",
    "These are used to compare the objects to check if they represent the same object present within the same memory location.<br>The operators are:<b> is , is not</b>. For example:"
   ]
  },
  {
   "cell_type": "code",
   "execution_count": 70,
   "metadata": {},
   "outputs": [
    {
     "data": {
      "text/plain": [
       "False"
      ]
     },
     "execution_count": 70,
     "metadata": {},
     "output_type": "execute_result"
    }
   ],
   "source": [
    "var = \"Hello\"\n",
    "var is \"hello\"\n",
    "\n",
    "# var is \"Hello\""
   ]
  },
  {
   "cell_type": "markdown",
   "metadata": {},
   "source": [
    "#### 6. Membership Operators\n",
    "Operators are used to test if a sequence is presented in an object.<br>The operators are:<b> in , not  in </b>. <i>We will see its use later on.</i>\n",
    "## Lists, Tuple, Set and Dictionary\n",
    "\n",
    "There are four collection data types in the Python, namely list, tuple, set and dictionary.<br>\n",
    "#### 1. List\n",
    "Its a  ordered collection of elements and are changeable. Can contain duplicate values. For example:"
   ]
  },
  {
   "cell_type": "code",
   "execution_count": 84,
   "metadata": {},
   "outputs": [
    {
     "name": "stdout",
     "output_type": "stream",
     "text": [
      "['Huawei', 'Google', 13, 15.556, True]\n"
     ]
    }
   ],
   "source": [
    "myList = [\"Huawei\",\"Google\", 13, 15.556, True ]\n",
    "print(myList)"
   ]
  },
  {
   "cell_type": "code",
   "execution_count": 85,
   "metadata": {},
   "outputs": [
    {
     "name": "stdout",
     "output_type": "stream",
     "text": [
      "['Huawei', 'Google', 13, 15.556, False]\n"
     ]
    }
   ],
   "source": [
    "myList[-1] = False\n",
    "print(myList)"
   ]
  },
  {
   "cell_type": "markdown",
   "metadata": {},
   "source": [
    "#### 2. Tuple\n",
    "Its a  ordered collection of elements and are <b>not</b> changeable. Can contain duplicate values. For example:"
   ]
  },
  {
   "cell_type": "code",
   "execution_count": 74,
   "metadata": {},
   "outputs": [
    {
     "name": "stdout",
     "output_type": "stream",
     "text": [
      "('hello', 'World', 10, 9.556, False)\n"
     ]
    }
   ],
   "source": [
    "myTuple = (\"hello\",\"World\", 10, 9.556, False ) \n",
    "print(myTuple)"
   ]
  },
  {
   "cell_type": "code",
   "execution_count": 76,
   "metadata": {},
   "outputs": [
    {
     "ename": "TypeError",
     "evalue": "'tuple' object does not support item assignment",
     "output_type": "error",
     "traceback": [
      "\u001b[1;31m---------------------------------------------------------------------------\u001b[0m",
      "\u001b[1;31mTypeError\u001b[0m                                 Traceback (most recent call last)",
      "\u001b[1;32m<ipython-input-76-7113efbb9f91>\u001b[0m in \u001b[0;36m<module>\u001b[1;34m\u001b[0m\n\u001b[1;32m----> 1\u001b[1;33m \u001b[0mmyTuple\u001b[0m\u001b[1;33m[\u001b[0m\u001b[1;36m0\u001b[0m\u001b[1;33m]\u001b[0m \u001b[1;33m=\u001b[0m \u001b[1;34m\"Hello\"\u001b[0m\u001b[1;33m\u001b[0m\u001b[1;33m\u001b[0m\u001b[0m\n\u001b[0m",
      "\u001b[1;31mTypeError\u001b[0m: 'tuple' object does not support item assignment"
     ]
    }
   ],
   "source": [
    "myTuple[0] = \"Hello\""
   ]
  },
  {
   "cell_type": "markdown",
   "metadata": {},
   "source": [
    "#### 3. Set\n",
    "Its a collection of unique elements and are unordered and unindexed. <b>Cannot</b> contain duplicate values. For example:"
   ]
  },
  {
   "cell_type": "code",
   "execution_count": 94,
   "metadata": {},
   "outputs": [
    {
     "name": "stdout",
     "output_type": "stream",
     "text": [
      "{True, 'Apple', 3.14, 'Pineapple'}\n"
     ]
    }
   ],
   "source": [
    "mySet = { \"Apple\", \"Pineapple\", 3.14, True, True, 3.14, True, \"Apple\"}\n",
    "print(mySet)"
   ]
  },
  {
   "cell_type": "markdown",
   "metadata": {},
   "source": [
    "#### 4. Dictionary\n",
    "Its a collection of unique elements and are unordered, changeable and can be indexed, and are <b>stored as Key-Value pairs</b>. Cannot contain duplicate values. For example:"
   ]
  },
  {
   "cell_type": "code",
   "execution_count": 100,
   "metadata": {},
   "outputs": [
    {
     "name": "stdout",
     "output_type": "stream",
     "text": [
      "{'Hello': 1, 2: 'World'} \n",
      "\n",
      "1\n",
      "World\n"
     ]
    }
   ],
   "source": [
    "myDictionary = { \"Hello\" : 1 , 2 : \"World\"}\n",
    "print(myDictionary,\"\\n\")\n",
    "\n",
    "print(myDictionary[\"Hello\"])\n",
    "\n",
    "print(myDictionary[2])"
   ]
  },
  {
   "cell_type": "markdown",
   "metadata": {},
   "source": [
    "### IF - ELIF - ELSE  Condition statements\n",
    "These statements are used to evaluate a condition and execute a block of code based on that condition. Lets look at <b>IF</b> statement."
   ]
  },
  {
   "cell_type": "code",
   "execution_count": 101,
   "metadata": {},
   "outputs": [
    {
     "name": "stdout",
     "output_type": "stream",
     "text": [
      "10  is a EVEN number!\n"
     ]
    }
   ],
   "source": [
    "value = 10\n",
    "if value % 2 == 0 :\n",
    "    print(value,\" is a EVEN number!\")"
   ]
  },
  {
   "cell_type": "markdown",
   "metadata": {},
   "source": [
    "<b>ELSE Statement</b> :"
   ]
  },
  {
   "cell_type": "code",
   "execution_count": 103,
   "metadata": {},
   "outputs": [
    {
     "name": "stdout",
     "output_type": "stream",
     "text": [
      "5  is a ODD number!\n"
     ]
    }
   ],
   "source": [
    "value = 5\n",
    "if value % 2 == 0 :\n",
    "    print(value,\" is a EVEN number!\")\n",
    "else:\n",
    "    print(value,\" is a ODD number!\")"
   ]
  },
  {
   "cell_type": "markdown",
   "metadata": {},
   "source": [
    "<b>ELIF Statement</b> :"
   ]
  },
  {
   "cell_type": "code",
   "execution_count": 131,
   "metadata": {},
   "outputs": [
    {
     "name": "stdout",
     "output_type": "stream",
     "text": [
      "Teenager\n"
     ]
    }
   ],
   "source": [
    "Age = 15\n",
    "# If Age less than 13 then a Child\n",
    "if Age < 13   :\n",
    "    print(\"Child\")\n",
    "# If Age is between 13 and 19 then Teenager\n",
    "elif Age >= 13 and Age <= 19:\n",
    "    print(\"Teenager\")\n",
    "# If Age is greator than 19 then Adult\n",
    "else:\n",
    "    print(\"Adult\")"
   ]
  },
  {
   "cell_type": "markdown",
   "metadata": {},
   "source": [
    "### LOOPS:\n",
    "There are two basic loops, which are <b>FOR </b>loop and <b>WHILE </b>loops.<br><br><b>FOR </b>loops:<br>This loop is used to iterate over a collection of items, like lists, tuples, etc. For example: "
   ]
  },
  {
   "cell_type": "code",
   "execution_count": 109,
   "metadata": {},
   "outputs": [
    {
     "name": "stdout",
     "output_type": "stream",
     "text": [
      "Huawei\n",
      "Google\n",
      "13\n",
      "15.556\n",
      "False\n"
     ]
    }
   ],
   "source": [
    "for value in myList:\n",
    "    print(value)"
   ]
  },
  {
   "cell_type": "code",
   "execution_count": 111,
   "metadata": {},
   "outputs": [],
   "source": [
    "# Can you iterate over a string??\n"
   ]
  },
  {
   "cell_type": "markdown",
   "metadata": {},
   "source": [
    "<b>WHILE </b>loops:<br>This loop is used to execute code untill the condition clause is True. For example: "
   ]
  },
  {
   "cell_type": "code",
   "execution_count": 116,
   "metadata": {},
   "outputs": [
    {
     "name": "stdout",
     "output_type": "stream",
     "text": [
      "1\n",
      "2\n",
      "3\n",
      "4\n",
      "5\n",
      "6\n",
      "7\n",
      "8\n",
      "9\n"
     ]
    }
   ],
   "source": [
    "number = 1\n",
    "while number < 10:\n",
    "    print(number)\n",
    "    number+=1"
   ]
  },
  {
   "cell_type": "code",
   "execution_count": 114,
   "metadata": {},
   "outputs": [],
   "source": [
    "# what if in above loop you want to print only EVEN Numbers?? "
   ]
  },
  {
   "cell_type": "markdown",
   "metadata": {},
   "source": [
    "#### Break statement\n",
    "This is a keyword that is used to <b>STOP</b> the execution of your loop at that state. Consider below Example:"
   ]
  },
  {
   "cell_type": "code",
   "execution_count": 126,
   "metadata": {},
   "outputs": [
    {
     "name": "stdout",
     "output_type": "stream",
     "text": [
      "1  is Odd\n",
      "3  is Odd\n",
      "5  is Odd\n",
      "7  is Odd\n",
      "8 is EVEN ???\n",
      "9  is Odd\n",
      "3  is Odd\n",
      "11  is Odd\n"
     ]
    }
   ],
   "source": [
    "check_numbers = [1,3,5,7,8,9,3,11]\n",
    "for number in check_numbers:\n",
    "    if number % 2 == 0 :\n",
    "        print(number,\"is EVEN ???\")\n",
    "#         break\n",
    "    else:\n",
    "        print(number,\" is Odd\")"
   ]
  },
  {
   "cell_type": "markdown",
   "metadata": {},
   "source": [
    "#### Continue statement\n",
    "This is a keyword that is used to <b>SKIP</b> the execution of your loop at that state. Consider below Example:"
   ]
  },
  {
   "cell_type": "code",
   "execution_count": 130,
   "metadata": {},
   "outputs": [
    {
     "name": "stdout",
     "output_type": "stream",
     "text": [
      "1  is Odd\n",
      "3  is Odd\n",
      "5  is Odd\n",
      "7  is Odd\n",
      "8 is EVEN ???\n",
      "9  is Odd\n",
      "3  is Odd\n",
      "11  is Odd\n"
     ]
    }
   ],
   "source": [
    "# For the above scenario, what IF you don't want to print the even numbers occuring in check_numbers\n",
    "check_numbers = [1,3,5,7,8,9,3,11]\n",
    "for number in check_numbers:\n",
    "    if number % 2 == 0 :\n",
    "        print(number,\"is EVEN ???\")\n",
    "    else:\n",
    "        print(number,\" is Odd\")"
   ]
  },
  {
   "cell_type": "code",
   "execution_count": null,
   "metadata": {},
   "outputs": [],
   "source": []
  },
  {
   "cell_type": "code",
   "execution_count": null,
   "metadata": {},
   "outputs": [],
   "source": []
  },
  {
   "cell_type": "code",
   "execution_count": null,
   "metadata": {},
   "outputs": [],
   "source": []
  },
  {
   "cell_type": "code",
   "execution_count": null,
   "metadata": {},
   "outputs": [],
   "source": []
  },
  {
   "cell_type": "code",
   "execution_count": null,
   "metadata": {},
   "outputs": [],
   "source": []
  },
  {
   "cell_type": "code",
   "execution_count": null,
   "metadata": {},
   "outputs": [],
   "source": []
  },
  {
   "cell_type": "code",
   "execution_count": null,
   "metadata": {},
   "outputs": [],
   "source": []
  },
  {
   "cell_type": "code",
   "execution_count": null,
   "metadata": {},
   "outputs": [],
   "source": []
  },
  {
   "cell_type": "code",
   "execution_count": null,
   "metadata": {},
   "outputs": [],
   "source": []
  },
  {
   "cell_type": "code",
   "execution_count": null,
   "metadata": {},
   "outputs": [],
   "source": []
  },
  {
   "cell_type": "code",
   "execution_count": null,
   "metadata": {},
   "outputs": [],
   "source": []
  },
  {
   "cell_type": "code",
   "execution_count": null,
   "metadata": {},
   "outputs": [],
   "source": []
  },
  {
   "cell_type": "code",
   "execution_count": null,
   "metadata": {},
   "outputs": [],
   "source": []
  },
  {
   "cell_type": "code",
   "execution_count": null,
   "metadata": {},
   "outputs": [],
   "source": []
  },
  {
   "cell_type": "code",
   "execution_count": null,
   "metadata": {},
   "outputs": [],
   "source": []
  },
  {
   "cell_type": "code",
   "execution_count": null,
   "metadata": {},
   "outputs": [],
   "source": []
  },
  {
   "cell_type": "code",
   "execution_count": null,
   "metadata": {},
   "outputs": [],
   "source": [
    "\n"
   ]
  },
  {
   "cell_type": "code",
   "execution_count": null,
   "metadata": {},
   "outputs": [],
   "source": []
  }
 ],
 "metadata": {
  "kernelspec": {
   "display_name": "Python 3",
   "language": "python",
   "name": "python3"
  },
  "language_info": {
   "codemirror_mode": {
    "name": "ipython",
    "version": 3
   },
   "file_extension": ".py",
   "mimetype": "text/x-python",
   "name": "python",
   "nbconvert_exporter": "python",
   "pygments_lexer": "ipython3",
   "version": "3.7.3"
  }
 },
 "nbformat": 4,
 "nbformat_minor": 2
}
